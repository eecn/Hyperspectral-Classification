{
 "cells": [
  {
   "cell_type": "code",
   "execution_count": 1,
   "metadata": {},
   "outputs": [],
   "source": [
    "from sklearn.decomposition import PCA\n",
    "from scipy import io, misc\n",
    "import torch"
   ]
  },
  {
   "cell_type": "code",
   "execution_count": 4,
   "metadata": {},
   "outputs": [],
   "source": [
    "img = io.loadmat('Datasets/WHUHiLongKou/WHU_Hi_LongKou_gt.mat')['WHU_Hi_LongKou_gt']\n",
    "gt = io.loadmat('Datasets/WHUHiLongKou/WHU_Hi_LongKou_gt.mat')['WHU_Hi_LongKou_gt']"
   ]
  },
  {
   "cell_type": "code",
   "execution_count": 8,
   "metadata": {},
   "outputs": [],
   "source": [
    "pca = PCA(n_components=15)\n",
    "X_train = pca.fit_transform(img)"
   ]
  },
  {
   "cell_type": "code",
   "execution_count": 9,
   "metadata": {},
   "outputs": [
    {
     "data": {
      "text/plain": [
       "array([[ 25.92051196,  -2.40585798,  24.49366656, ...,  21.369759  ,\n",
       "          1.07624485,   0.46209921],\n",
       "       [  1.25063257,   5.77522011,  -5.77537308, ...,   0.09250092,\n",
       "         -1.61976631,  -1.64579385],\n",
       "       [  1.25063257,   5.77522011,  -5.77537308, ...,   0.09250092,\n",
       "         -1.61976631,  -1.64579385],\n",
       "       ...,\n",
       "       [-13.72569842,  11.32385195,   2.26143803, ...,  -1.70855791,\n",
       "          9.96952379,   0.54153682],\n",
       "       [-13.56657791,  10.81947362,   2.75423187, ...,  -2.23565933,\n",
       "         10.49076476,   0.1936142 ],\n",
       "       [ -9.53675739,   6.31376226,   8.53959773, ...,  -5.70805297,\n",
       "          8.01470562,   4.41852745]])"
      ]
     },
     "execution_count": 9,
     "metadata": {},
     "output_type": "execute_result"
    }
   ],
   "source": [
    "X_train"
   ]
  },
  {
   "cell_type": "code",
   "execution_count": 2,
   "metadata": {},
   "outputs": [
    {
     "name": "stdout",
     "output_type": "stream",
     "text": [
      "torch.Size([8, 256, 1, 7, 7])\n",
      "torch.Size([8, 256, 7, 7])\n"
     ]
    }
   ],
   "source": [
    "x = torch.rand(8, 256, 1, 7, 7)\n",
    "print(x.shape)\n",
    "x = x.squeeze()\n",
    "print(x.shape)"
   ]
  },
  {
   "cell_type": "code",
   "execution_count": null,
   "metadata": {},
   "outputs": [],
   "source": []
  }
 ],
 "metadata": {
  "kernelspec": {
   "display_name": "Python 3.9.6 ('torchlatest')",
   "language": "python",
   "name": "python3"
  },
  "language_info": {
   "codemirror_mode": {
    "name": "ipython",
    "version": 3
   },
   "file_extension": ".py",
   "mimetype": "text/x-python",
   "name": "python",
   "nbconvert_exporter": "python",
   "pygments_lexer": "ipython3",
   "version": "3.9.6"
  },
  "orig_nbformat": 4,
  "vscode": {
   "interpreter": {
    "hash": "dc88dcb4ed0d43e884fbb0bce9d6d6240bde28153adf4fb579baaec5e32bdd37"
   }
  }
 },
 "nbformat": 4,
 "nbformat_minor": 2
}
